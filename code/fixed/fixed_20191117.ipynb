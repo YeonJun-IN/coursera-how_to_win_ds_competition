{
 "cells": [
  {
   "cell_type": "code",
   "execution_count": 116,
   "metadata": {},
   "outputs": [],
   "source": [
    "import pandas as pd\n",
    "import numpy as np\n",
    "import os\n",
    "from datetime import datetime\n",
    "import  matplotlib.pyplot as plt\n",
    "\n",
    "from sklearn.ensemble import RandomForestRegressor\n",
    "from sklearn.model_selection import TimeSeriesSplit\n",
    "from sklearn.model_selection import StratifiedKFold\n",
    "from sklearn.metrics import mean_squared_error\n",
    "\n",
    "from random import sample\n",
    "seed_list = list(range(10000))\n",
    "\n",
    "import warnings\n",
    "warnings.simplefilter('ignore')\n",
    "os.chdir('C:\\\\Users\\\\yeonjun.in\\\\Desktop\\\\연준\\\\캐글\\\\제주도\\\\data')\n",
    "\n",
    "TODAY = str(datetime.now().year)+str(datetime.now().month)+str(datetime.now().day)"
   ]
  },
  {
   "cell_type": "code",
   "execution_count": 117,
   "metadata": {},
   "outputs": [],
   "source": [
    "train = pd.read_csv('train.csv')\n",
    "test = pd.read_csv(\"test.csv\")\n",
    "\n",
    "sub = pd.read_csv('submission_sample.csv')\n",
    "\n",
    "os.chdir('C:\\\\Users\\\\yeonjun.in\\\\Desktop\\\\연준\\\\캐글\\\\제주도\\\\code\\\\experiment')\n",
    "experiment_db = pd.read_csv('experiment_DB.csv')"
   ]
  },
  {
   "cell_type": "code",
   "execution_count": 46,
   "metadata": {},
   "outputs": [],
   "source": [
    "train.columns  = ['id', 'date', 'bus_route_id', 'in_out', 'station_code', 'station_name',\n",
    " 'latitude', 'longitude', 'ride_6_7', 'ride_7_8', 'ride_8_9',\n",
    " 'ride_9_10', 'ride_10_11', 'ride_11_12', 'takeoff_6_7', 'takeoff_7_8',\n",
    " 'takeoff_8_9', 'takeoff_9_10', 'takeoff_10_11', 'takeoff_11_12',\n",
    " 'ride_18_20']\n",
    "test.columns = ['id', 'date', 'bus_route_id', 'in_out', 'station_code', 'station_name',\n",
    " 'latitude', 'longitude', 'ride_6_7', 'ride_7_8', 'ride_8_9',\n",
    " 'ride_9_10', 'ride_10_11', 'ride_11_12', 'takeoff_6_7', 'takeoff_7_8',\n",
    " 'takeoff_8_9', 'takeoff_9_10', 'takeoff_10_11', 'takeoff_11_12'] "
   ]
  },
  {
   "cell_type": "code",
   "execution_count": 47,
   "metadata": {},
   "outputs": [],
   "source": [
    "train['date'] = pd.to_datetime(train['date'])\n",
    "train['weekday'] = train['date'].dt.weekday\n",
    "train = pd.get_dummies(train,columns=['weekday'])\n",
    "test['date'] = pd.to_datetime(test['date'])\n",
    "test['weekday'] = test['date'].dt.weekday\n",
    "test = pd.get_dummies(test,columns=['weekday'])"
   ]
  },
  {
   "cell_type": "code",
   "execution_count": 48,
   "metadata": {},
   "outputs": [],
   "source": [
    "train['in_out'] = train['in_out'].map({'시내':0,'시외':1})\n",
    "test['in_out'] = test['in_out'].map({'시내':0,'시외':1})"
   ]
  },
  {
   "cell_type": "code",
   "execution_count": 49,
   "metadata": {},
   "outputs": [],
   "source": [
    "import geopy.distance\n",
    "\n",
    "coords_jejusi = (33.500770, 126.522761) #제주시의 위도 경도\n",
    "coords_seoquipo = (33.259429, 126.558217) #서귀포시의 위도 경도\n",
    "\n",
    "\n",
    "train['dis_jejusi'] = [geopy.distance.vincenty((train['latitude'].iloc[i],train['longitude'].iloc[i]), coords_jejusi).km for i in range(len(train))]\n",
    "train['dis_seoquipo'] = [geopy.distance.vincenty((train['latitude'].iloc[i],train['longitude'].iloc[i]), coords_seoquipo).km for i in range(len(train))]\n",
    "\n",
    "test['dis_jejusi'] = [geopy.distance.vincenty((test['latitude'].iloc[i],test['longitude'].iloc[i]), coords_jejusi).km for i in range(len(test))]\n",
    "test['dis_seoquipo'] = [geopy.distance.vincenty((test['latitude'].iloc[i],test['longitude'].iloc[i]), coords_seoquipo).km for i in range(len(test))]"
   ]
  },
  {
   "cell_type": "code",
   "execution_count": 55,
   "metadata": {},
   "outputs": [],
   "source": [
    "train['ride_6_12'] = train[['ride_6_7','ride_7_8','ride_8_9','ride_9_10','ride_10_11','ride_11_12']].sum(axis=1)\n",
    "test['ride_6_12'] = test[['ride_6_7','ride_7_8','ride_8_9','ride_9_10','ride_10_11','ride_11_12']].sum(axis=1)\n",
    "\n",
    "train['takeoff_6_12'] = train[['takeoff_6_7','takeoff_7_8','takeoff_8_9','takeoff_9_10','takeoff_10_11','takeoff_11_12']].sum(axis=1)\n",
    "test['takeoff_6_12'] = test[['takeoff_6_7','takeoff_7_8','takeoff_8_9','takeoff_9_10','takeoff_10_11','takeoff_11_12']].sum(axis=1)"
   ]
  },
  {
   "cell_type": "code",
   "execution_count": 56,
   "metadata": {},
   "outputs": [],
   "source": [
    "input_var=['in_out','latitude','longitude','ride_6_7', 'ride_7_8', 'ride_8_9', \n",
    "           'ride_9_10','ride_10_11', 'ride_11_12','ride_6_12',\n",
    "           'takeoff_6_7', 'takeoff_7_8', 'takeoff_8_9','takeoff_9_10', \n",
    "           'takeoff_10_11', 'takeoff_11_12','takeoff_6_12',\n",
    "           'weekday_0', 'weekday_1', 'weekday_2', 'weekday_3', 'weekday_4',\n",
    "           'weekday_5', 'weekday_6', \n",
    "           'dis_jejusi', 'dis_seoquipo']\n",
    "target=['ride_18_20']"
   ]
  },
  {
   "cell_type": "code",
   "execution_count": 57,
   "metadata": {},
   "outputs": [],
   "source": [
    "X_train=train[input_var]\n",
    "y_train=train[target]\n",
    "\n",
    "X_test=test[input_var]"
   ]
  },
  {
   "cell_type": "code",
   "execution_count": 64,
   "metadata": {},
   "outputs": [],
   "source": [
    "NFOLDS = 6\n",
    "random_seed = sample(seed_list,1)\n",
    "\n",
    "tscv = TimeSeriesSplit(max_train_size=None, n_splits=NFOLDS)\n",
    "stk = StratifiedKFold(n_splits=NFOLDS,random_state = random_seed,shuffle=True)"
   ]
  },
  {
   "cell_type": "code",
   "execution_count": 97,
   "metadata": {},
   "outputs": [],
   "source": [
    "experiment_info = ''"
   ]
  },
  {
   "cell_type": "code",
   "execution_count": 130,
   "metadata": {},
   "outputs": [],
   "source": [
    "minute = str(start.minute)+'min'"
   ]
  },
  {
   "cell_type": "code",
   "execution_count": 59,
   "metadata": {},
   "outputs": [
    {
     "name": "stdout",
     "output_type": "stream",
     "text": [
      "Fold: 1\n",
      "2.8753174644073054\n",
      "----------------------------------------\n",
      "Fold: 2\n",
      "3.0306451838366897\n",
      "----------------------------------------\n",
      "Fold: 3\n",
      "2.7955248031319453\n",
      "----------------------------------------\n",
      "Fold: 4\n",
      "2.5793443742928908\n",
      "----------------------------------------\n",
      "Fold: 5\n",
      "2.8278930992691547\n",
      "----------------------------------------\n",
      "Fold: 6\n",
      "2.900931575027954\n",
      "----------------------------------------\n",
      "cv score:\n",
      "2.8382224883251794\n"
     ]
    }
   ],
   "source": [
    "start = datetime.now()\n",
    "\n",
    "time = str(start.hour)+'hr'\n",
    "minute = str(start.minute)+'min'\n",
    "\n",
    "cv_train = np.zeros(len(y_train))\n",
    "cv_pred = np.zeros(test.shape[0])\n",
    "fold_scores = []\n",
    "\n",
    "\n",
    "for fold_, (tr_index, vl_index) in enumerate(stk.split(X_train,y_train)):\n",
    "# for fold_, (tr_index, vl_index) in enumerate(tscv.split(train)):    \n",
    "    print('Fold:', fold_+1)\n",
    "    tst = X_test[input_var]\n",
    "    tr, vl = X_train.iloc[tr_index], X_train.iloc[vl_index]\n",
    "    y_tr, y_vl = y_train.iloc[tr_index], y_train.iloc[vl_index]\n",
    "    \n",
    "#     print(tr_index,vl_index)\n",
    "    \n",
    "    rf = RandomForestRegressor(random_state=1217,n_estimators=100,criterion='mse')\n",
    "    rf.fit(tr,y_tr)\n",
    "    \n",
    "    pred = rf.predict(vl)\n",
    "    \n",
    "    print(np.sqrt(mean_squared_error(y_vl,pred)))\n",
    "    cv_train[vl_index] += pred\n",
    "    cv_pred += rf.predict(tst)\n",
    "    \n",
    "    print('-'*40+'\\n\\n')\n",
    "    \n",
    "cv_pred /= NFOLDS\n",
    "\n",
    "vl_error = np.sqrt(mean_squared_error(np.array(y_train).flatten(),cv_train))\n",
    "\n",
    "print('cv score:')\n",
    "print(vl_error)\n",
    "# print(fold_scores)\n",
    "# print(best_trees,np.mean(best_trees))\n",
    "\n",
    "sub['18~20_ride'] = cv_pred\n",
    "\n",
    "end = datetime.now()\n",
    "\n",
    "end - start"
   ]
  },
  {
   "cell_type": "code",
   "execution_count": 133,
   "metadata": {},
   "outputs": [],
   "source": [
    "os.chdir('C:\\\\\\Users\\\\yeonjun.in\\\\Desktop\\\\연준\\\\캐글\\\\제주도\\\\submission')\n",
    "sub['18~20_ride'] = cv_pred\n",
    "sub.to_csv(TODAY+'_'+time+'_'+minute+'_'+'sub'+'.csv',index=False)"
   ]
  },
  {
   "cell_type": "code",
   "execution_count": 118,
   "metadata": {},
   "outputs": [],
   "source": [
    "experiment_result = pd.DataFrame({\n",
    "    'date' : [TODAY],\n",
    "    'time' : [time],\n",
    "    'score' : [vl_error],\n",
    "    'feature_list' : [input_var],\n",
    "    'model' : 'rf',\n",
    "    'hyper_param' : np.nan,\n",
    "    'explanation' : experiment_info\n",
    "})"
   ]
  },
  {
   "cell_type": "code",
   "execution_count": 119,
   "metadata": {},
   "outputs": [],
   "source": [
    "os.chdir('C:\\\\Users\\\\yeonjun.in\\\\Desktop\\\\연준\\\\캐글\\\\제주도\\\\code\\\\experiment')\n",
    "pd.concat([experiment_db,experiment_result],axis=0).to_csv('experiment_DB.csv',index=False)"
   ]
  }
 ],
 "metadata": {
  "kernelspec": {
   "display_name": "Python 3",
   "language": "python",
   "name": "python3"
  },
  "language_info": {
   "codemirror_mode": {
    "name": "ipython",
    "version": 3
   },
   "file_extension": ".py",
   "mimetype": "text/x-python",
   "name": "python",
   "nbconvert_exporter": "python",
   "pygments_lexer": "ipython3",
   "version": "3.7.3"
  }
 },
 "nbformat": 4,
 "nbformat_minor": 2
}
