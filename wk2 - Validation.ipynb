{
 "cells": [
  {
   "cell_type": "markdown",
   "metadata": {},
   "source": [
    "# Validation and overfitting\n",
    "\n",
    "퍼블릭 리더보드에서 프라이빗 리더보드로 갔을 때 순위가 팍 떨어지는 경우가 있다.\n",
    "\n",
    "1. validation을 안하고 퍼블릭에서 제일 점수 높은거로 낸 경우\n",
    "2. 퍼블릭/프라이빗을 이상하게 나눈 경우\n",
    "\n",
    "\n",
    "우리가 신경쓸 것은 1번. 이것을 competition에서의 overfitting이라고 한다."
   ]
  },
  {
   "cell_type": "markdown",
   "metadata": {},
   "source": [
    "- 일반적인 의미에서의 overfitting\n",
    "\n",
    "training error << test error\n",
    "\n",
    "- competition에서의 overfitting\n",
    "\n",
    "기대한 error >> test error"
   ]
  },
  {
   "cell_type": "markdown",
   "metadata": {},
   "source": [
    "# Validation strategies"
   ]
  },
  {
   "cell_type": "markdown",
   "metadata": {},
   "source": [
    "validation을 하려면 데이터를 일단 나눠야함.\n",
    "\n",
    "- 어떻게 나눠야할까?\n",
    "- 몇개로 나눠야할까? "
   ]
  },
  {
   "cell_type": "markdown",
   "metadata": {},
   "source": [
    "### 어떻게 나눠야할까\n",
    "- Holdout\n",
    "    \n",
    "    - 그냥 간단하게 train / validation 딱 2개로 나누는 것\n",
    "    - 당연히 train/validation은 overlap되면 안되는데, duplicated record가 있다면 overlap될 수 있으니 주의해야함.\n",
    "    - 데이터가 충분히 많을 때 / 다른 split을 했을 때 다 score가 비슷하다면 hold out 하는게 좋음.\n",
    "    - sklearn.model_selection.ShuffleSplit\n",
    "\n",
    "- K-fold\n",
    "\n",
    "    - 데이터를 k개로 나누어서 하는 것. Hold out을 k번 하는 것과는 다름.\n",
    "    - 데이터 수가 중간정도 일 때 / 여러 split에서 모델의 성능이 매우 다를 때 / 여러 split에서 hyperparameter가 많이 다를 때 좋음.\n",
    "    - sklearn.model_selection.Kfold\n",
    "\n",
    "- Leave-one-out\n",
    "\n",
    "    - k=sample 개수 인 kfold.\n",
    "    - 데이터가 매우 적을 때 유용. 근데 여태 단 한번도 써본적 음슴...\n",
    "\n",
    "- stratification\n",
    "\n",
    "    - 특정 class에 sample 적을 때 random split하면 망함.\n",
    "    - 특히 데이터가 적을 때 / unbalanced dataset / Multiclass classification에 유용함\n",
    "    - 좋은 classification data set은 그냥 shuffle split 이랑 층화 추출이랑 비슷함."
   ]
  },
  {
   "cell_type": "markdown",
   "metadata": {},
   "source": []
  },
  {
   "cell_type": "markdown",
   "metadata": {},
   "source": []
  },
  {
   "cell_type": "markdown",
   "metadata": {},
   "source": []
  },
  {
   "cell_type": "markdown",
   "metadata": {},
   "source": []
  },
  {
   "cell_type": "markdown",
   "metadata": {},
   "source": []
  },
  {
   "cell_type": "markdown",
   "metadata": {},
   "source": []
  },
  {
   "cell_type": "markdown",
   "metadata": {},
   "source": []
  },
  {
   "cell_type": "markdown",
   "metadata": {},
   "source": []
  },
  {
   "cell_type": "markdown",
   "metadata": {},
   "source": []
  },
  {
   "cell_type": "markdown",
   "metadata": {},
   "source": []
  },
  {
   "cell_type": "markdown",
   "metadata": {},
   "source": []
  },
  {
   "cell_type": "markdown",
   "metadata": {},
   "source": []
  },
  {
   "cell_type": "markdown",
   "metadata": {},
   "source": []
  },
  {
   "cell_type": "markdown",
   "metadata": {},
   "source": []
  },
  {
   "cell_type": "markdown",
   "metadata": {},
   "source": []
  },
  {
   "cell_type": "markdown",
   "metadata": {},
   "source": []
  },
  {
   "cell_type": "markdown",
   "metadata": {},
   "source": []
  },
  {
   "cell_type": "markdown",
   "metadata": {},
   "source": []
  }
 ],
 "metadata": {
  "kernelspec": {
   "display_name": "Python 3",
   "language": "python",
   "name": "python3"
  },
  "language_info": {
   "codemirror_mode": {
    "name": "ipython",
    "version": 3
   },
   "file_extension": ".py",
   "mimetype": "text/x-python",
   "name": "python",
   "nbconvert_exporter": "python",
   "pygments_lexer": "ipython3",
   "version": "3.7.3"
  }
 },
 "nbformat": 4,
 "nbformat_minor": 2
}
